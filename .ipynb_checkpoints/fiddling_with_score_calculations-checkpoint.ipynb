{
 "cells": [
  {
   "cell_type": "code",
   "execution_count": null,
   "id": "af92f9c5",
   "metadata": {},
   "outputs": [],
   "source": [
    "import pandas as pd\n",
    "import numpy as np\n",
    "import geopandas as gpd\n",
    "import contextily as ctx\n",
    "\n",
    "import esda  \n",
    "from libpysal import weights\n",
    "\n",
    "import seaborn as sns\n",
    "import matplotlib.pyplot as plt\n",
    "from matplotlib.colors import LinearSegmentedColormap\n",
    "from matplotlib.patches import Patch, Rectangle, Circle\n",
    "from matplotlib_scalebar.scalebar import ScaleBar\n",
    "from matplotlib.lines import Line2D"
   ]
  },
  {
   "cell_type": "markdown",
   "id": "892f071e",
   "metadata": {},
   "source": [
    "## House keeping\n",
    "First define all projections that I will be using. This includes WebMercator for mapping onto contextily basemaps. Then load in the data. I have included two datasets here so far. They are:\n",
    "- A shapefile of census tracts from 2010 used for the Cal Enviro Screen 4.0 analysis\n",
    "- A csv that is one sheet taken from the Excel spreadsheet available for download from the Cal enviro screen website. This is the sheet titled \"CES4.0FINAL_results\" and is labeled `factors` in this code.\n",
    "\n",
    "All data was downloaded from the [CalEnviroScreen4.0 report website](https://oehha.ca.gov/calenviroscreen/report/calenviroscreen-40)"
   ]
  },
  {
   "cell_type": "code",
   "execution_count": null,
   "id": "0438a3a4",
   "metadata": {},
   "outputs": [],
   "source": [
    "WEBMERC = 3857 #the projected coordinate system for web mapping (adding basemaps with Contextily)"
   ]
  },
  {
   "cell_type": "code",
   "execution_count": null,
   "id": "971a33a8",
   "metadata": {},
   "outputs": [],
   "source": [
    "zipfile = \"zip:///Users/vlingenfelter5/Documents/spring2022/cj/calenviroscreen40shpf2021shp.zip\"\n",
    "ces_gdf = gpd.read_file(zipfile)"
   ]
  },
  {
   "cell_type": "code",
   "execution_count": null,
   "id": "2ea75eef",
   "metadata": {},
   "outputs": [],
   "source": [
    "factors = pd.read_csv('./cal_enviro_screen_4.csv')"
   ]
  },
  {
   "cell_type": "markdown",
   "id": "4b4d9943",
   "metadata": {},
   "source": [
    "## Clean up the data (a little bit)\n",
    "Because some of the column names contained spaces or non-alphanumeric characters, I went ahead and renamed them to things that were underscore separated and a little shorter\n",
    "\n",
    "This is partly to avoid having to use spaces (for me) and also in case anyone wants to open my files later in ArcGIS"
   ]
  },
  {
   "cell_type": "code",
   "execution_count": null,
   "id": "a8be11f0",
   "metadata": {},
   "outputs": [],
   "source": [
    "column_name_map = {\n",
    "    'Census Tract': 'Tract',\n",
    "    'Total Population': 'total_pop',\n",
    "    'California County': 'county',\n",
    "    'Approximate Location': 'approx_loc',\n",
    "    'Longitude': 'lon',\n",
    "    'Latitude': 'lat',\n",
    "    'CES 4.0 Score': 'ces_score',\n",
    "    ' CES 4.0 Percentile': 'ces_pctl',\n",
    "    'CES 4.0 Percentile Range': 'ces_pctl_range',\n",
    "    'Ozone': 'ozone',\n",
    "    'Ozone Pctl': 'ozone_pctl',\n",
    "    'PM2.5': 'pm25',\n",
    "    'PM2.5 Pctl': 'pm25_pctl',\n",
    "    'Diesel PM': 'diesel_pm',\n",
    "    'Diesel PM Pctl': 'diesel_pm_pctl',\n",
    "    'Drinking Water': 'drinking_water',\n",
    "    'Drinking Water Pctl': 'drinking_water_pctl',\n",
    "    'Lead': 'lead',\n",
    "    'Lead Pctl': 'lead_pctl',\n",
    "    'Pesticides': 'pesticides',\n",
    "    'Pesticides Pctl': 'pesticides_pctl',\n",
    "    'Tox. Release': 'tox_release',\n",
    "    'Tox. Release Pctl': 'tox_release_pctl',\n",
    "    'Traffic': 'traffic',\n",
    "    'Traffic Pctl': 'traffic_pctl',\n",
    "    'Cleanup Sites': 'cleanup_sites',\n",
    "    'Cleanup Sites Pctl': 'cleanup_sites_pctl',\n",
    "    'Groundwater Threats': 'groundwater',\n",
    "    'Groundwater Threats Pctl': 'groundwater_pctl',\n",
    "    'Haz. Waste': 'haz_waste',\n",
    "    'Haz. Waste Pctl': 'haz_waste_pctl',\n",
    "    'Imp. Water Bodies': 'imp_water_bodies',\n",
    "    'Imp. Water Bodies Pctl': 'imp_water_bodies_pctl',\n",
    "    'Solid Waste': 'solid_waste',\n",
    "    'Solid Waste Pctl': 'solid_waste_pctl',\n",
    "    'Pollution Burden': 'poll_burden',\n",
    "    'Pollution Burden Score': 'poll_burden_score',\n",
    "    'Pollution Burden Pctl': 'poll_burden_pctl',\n",
    "    'Asthma': 'asthma',\n",
    "    'Asthma Pctl': 'asthma_pctl',\n",
    "    'Low Birth Weight': 'lbw',\n",
    "    'Low Birth Weight Pctl': 'lbw_pctl',\n",
    "    'Cardiovascular Disease': 'cardio',\n",
    "    'Cardiovascular Disease Pctl': 'cardio_pctl',\n",
    "    'Education': 'edu',\n",
    "    'Education Pctl': 'edu_pctl',\n",
    "    'Linguistic Isolation': 'ling',\n",
    "    'Linguistic Isolation Pctl': 'ling_pctl',\n",
    "    'Poverty': 'poverty',\n",
    "    'Poverty Pctl': 'poverty_pctl',\n",
    "    'Unemployment': 'unemp',\n",
    "    'Unemployment Pctl': 'unemp_pctl',\n",
    "    'Housing Burden': 'housing_burden',\n",
    "    'Housing Burden Pctl': 'housing_burden_pctl',\n",
    "    'Pop. Char. ': 'pop_char',\n",
    "    'Pop. Char. Score': 'pop_char_score',\n",
    "    'Pop. Char. Pctl': 'pop_char_pctl'\n",
    "}"
   ]
  },
  {
   "cell_type": "code",
   "execution_count": null,
   "id": "d16839d0",
   "metadata": {},
   "outputs": [],
   "source": [
    "columns_readable_map = {v: k for k, v in column_name_map.items()}"
   ]
  },
  {
   "cell_type": "code",
   "execution_count": null,
   "id": "4647375e",
   "metadata": {},
   "outputs": [],
   "source": [
    "factors.rename(columns=column_name_map, inplace=True)"
   ]
  },
  {
   "cell_type": "markdown",
   "id": "b074ed1f",
   "metadata": {},
   "source": [
    "## Recreating the correlation matrix\n",
    "\n",
    "In the paper that did sensitivity analysis, they recorded pearson's correlation coefficients for each variable that was used in the index. I have recreated that here using the new index factors. \n",
    "\n",
    "In the final figure, correlation coefficients that are greater than 0.6 are highlighted with black boxes. This excludes the self relationship. "
   ]
  },
  {
   "cell_type": "code",
   "execution_count": null,
   "id": "6386666c",
   "metadata": {},
   "outputs": [],
   "source": [
    "factors_corr_matrix_columns = [\n",
    "    'ozone',\n",
    "    'pm25',\n",
    "    'diesel_pm',\n",
    "    'drinking_water',\n",
    "    'lead',\n",
    "    'pesticides',\n",
    "    'tox_release',\n",
    "    'traffic',\n",
    "    'cleanup_sites',\n",
    "    'groundwater',\n",
    "    'haz_waste',\n",
    "    'imp_water_bodies',\n",
    "    'solid_waste',\n",
    "    'asthma',\n",
    "    'lbw',\n",
    "    'cardio',\n",
    "    'edu',\n",
    "    'ling',\n",
    "    'poverty',\n",
    "    'unemp',\n",
    "    'housing_burden'\n",
    "]\n",
    "\n",
    "factors_corr_matrix = factors[factors_corr_matrix_columns]\n",
    "corr = factors_corr_matrix.corr()"
   ]
  },
  {
   "cell_type": "code",
   "execution_count": null,
   "id": "b9f04672",
   "metadata": {},
   "outputs": [],
   "source": [
    "sig_locs = []\n",
    "for i, col in enumerate(factors_corr_matrix_columns):\n",
    "    sig_cols = corr[((corr[col] >= 0.6) & (corr[col] < 1)) |\n",
    "                    ((corr[col] <= -0.6) & (corr[col] > -1))\n",
    "                   ].index.tolist()\n",
    "    \n",
    "    if len(sig_cols)>0:\n",
    "        for sig_col in sig_cols:\n",
    "            sig_locs.append(((i+0.5), (factors_corr_matrix_columns.index(sig_col)+0.5)))"
   ]
  },
  {
   "cell_type": "code",
   "execution_count": null,
   "id": "c452873f",
   "metadata": {},
   "outputs": [],
   "source": [
    "fig, ax = plt.subplots(figsize=(10, 8))\n",
    "\n",
    "sns.heatmap(corr, cmap='RdBu_r', vmin=-1, vmax=1,\n",
    "            xticklabels=[columns_readable_map[c] for c in corr.columns],\n",
    "            yticklabels=[columns_readable_map[c] for c in corr.columns])\n",
    "\n",
    "# add boxes around all the R values that are greater than 0.6 (by abs value)\n",
    "for s in sig_locs:    \n",
    "    # ax.add_patch(Rectangle(s, 1, 1, fill=False, edgecolor='k', lw=2))\n",
    "    ax.add_patch(Circle(s, 0.2, facecolor='yellow', edgecolor='k', lw=2))\n",
    "\n",
    "# add dashed lines around the different indicator groups\n",
    "ax.add_patch(Rectangle((0,0), 8, 8, fill=False, edgecolor='k', lw=2, linestyle='dotted'))\n",
    "ax.add_patch(Rectangle((8,8), 5, 5, fill=False, edgecolor='k', lw=2, linestyle='dotted'))\n",
    "ax.add_patch(Rectangle((13,13), 3, 3, fill=False, edgecolor='k', lw=2, linestyle='dotted'))\n",
    "ax.add_patch(Rectangle((16,16), 5, 5, fill=False, edgecolor='k', lw=2, linestyle='dotted'))\n",
    "\n",
    "legend_elements = [\n",
    "    Line2D([0], [0], color='k', lw=2, linestyle='dotted', \n",
    "           label='Factors within one indicator'),\n",
    "    Line2D([0], [0], marker='o', color='yellow', label=\"Pearson's R >= 0.6\",\n",
    "           markerfacecolor='yellow', markeredgecolor='k', \n",
    "           markeredgewidth=2, markersize=8),\n",
    "]\n",
    "\n",
    "ax.legend(handles=legend_elements,loc='upper right')"
   ]
  },
  {
   "cell_type": "markdown",
   "id": "69b727af",
   "metadata": {},
   "source": [
    "## Remaking the indicators"
   ]
  },
  {
   "cell_type": "code",
   "execution_count": null,
   "id": "051c5215",
   "metadata": {},
   "outputs": [],
   "source": [
    "environmental_effects = [\n",
    "    'ozone_pctl', \n",
    "    'pm25_pctl', \n",
    "    'diesel_pm_pctl',\n",
    "    'drinking_water_pctl',\n",
    "    'lead_pctl',\n",
    "    'pesticides_pctl',\n",
    "    'tox_release_pctl',\n",
    "    'traffic_pctl'\n",
    "]\n",
    "environmental_exposures = [\n",
    "    'cleanup_sites_pctl', \n",
    "    'groundwater_pctl', \n",
    "    'haz_waste_pctl',\n",
    "    'imp_water_bodies_pctl',\n",
    "    'solid_waste_pctl',\n",
    "]\n",
    "socioeconomic_factors = [\n",
    "    'edu_pctl',\n",
    "    'ling_pctl',\n",
    "    'poverty_pctl',\n",
    "    'unemp_pctl',\n",
    "    'housing_burden_pctl'\n",
    "]\n",
    "sensitive_populations = [\n",
    "    'asthma_pctl',\n",
    "    'lbw_pctl',\n",
    "    'cardio_pctl'\n",
    "]\n",
    "\n",
    "factors['env_eff'] = factors[environmental_effects].mean(axis=1)\n",
    "factors['env_exp'] = factors[environmental_exposures].mean(axis=1)\n",
    "factors['socio'] = factors[socioeconomic_factors].mean(axis=1)\n",
    "factors['sens_pop'] = factors[sensitive_populations].mean(axis=1)"
   ]
  },
  {
   "cell_type": "code",
   "execution_count": null,
   "id": "efab539b",
   "metadata": {},
   "outputs": [],
   "source": [
    "factors['eq_poll_burden'] = factors[['env_exp', 'env_eff']].mean(axis=1)"
   ]
  },
  {
   "cell_type": "code",
   "execution_count": null,
   "id": "69a88285",
   "metadata": {},
   "outputs": [],
   "source": [
    "def delta_scaling(col):\n",
    "    col_max = col.max()\n",
    "    return 10/col_max * factors[col]"
   ]
  },
  {
   "cell_type": "code",
   "execution_count": null,
   "id": "ecdc7461",
   "metadata": {},
   "outputs": [],
   "source": [
    "factors['eq_poll_burden_score'] = delta_scaling(factors['eq_poll_burden'])"
   ]
  },
  {
   "cell_type": "code",
   "execution_count": null,
   "id": "f4a3848b",
   "metadata": {},
   "outputs": [],
   "source": [
    "factors['eq_poll_burden_ces_score'] = factors['eq_poll_burden_score'] * factors['pop_char_score']"
   ]
  },
  {
   "cell_type": "code",
   "execution_count": null,
   "id": "7911b248",
   "metadata": {},
   "outputs": [],
   "source": [
    "factors.plot.scatter(x='ces_score', y='eq_poll_burden_ces_score')"
   ]
  },
  {
   "cell_type": "code",
   "execution_count": null,
   "id": "cfcc195b",
   "metadata": {},
   "outputs": [],
   "source": [
    "factors['eq_poll_burden_score_diff'] = factors['ces_score'] - factors['eq_poll_burden_ces_score']"
   ]
  },
  {
   "cell_type": "code",
   "execution_count": null,
   "id": "b4488312",
   "metadata": {},
   "outputs": [],
   "source": [
    "pollution_burden_factors = environmental_exposures + environmental_effects"
   ]
  },
  {
   "cell_type": "code",
   "execution_count": null,
   "id": "1a978e52",
   "metadata": {},
   "outputs": [],
   "source": [
    "pop_char_factors = [\n",
    "    'asthma_pctl',\n",
    "    'lbw_pctl',\n",
    "    'cardio_pctl',\n",
    "    'edu_pctl',\n",
    "    'ling_pctl',\n",
    "    'poverty_pctl',\n",
    "    'unemp_pctl',\n",
    "    'housing_burden_pctl'\n",
    "]"
   ]
  },
  {
   "cell_type": "code",
   "execution_count": null,
   "id": "1fc14916",
   "metadata": {},
   "outputs": [],
   "source": [
    "factors['all_poll_burden'] = factors[pollution_burden_factors].mean(axis=1)\n",
    "factors['all_pop_char'] = factors[pop_char_factors].mean(axis=1)\n",
    "\n",
    "factors['all_poll_burden_scale'] = delta_scaling(factors['all_poll_burden'])\n",
    "factors['all_pop_char_scale'] = delta_scaling(factors['all_pop_char'])\n",
    "\n",
    "factors['all_ces_score'] = factors['all_poll_burden_scale'] * factors['all_pop_char_scale']"
   ]
  },
  {
   "cell_type": "code",
   "execution_count": null,
   "id": "6837df26",
   "metadata": {},
   "outputs": [],
   "source": [
    "factors.plot.scatter(x='ces_score', y='all_ces_score')"
   ]
  },
  {
   "cell_type": "code",
   "execution_count": null,
   "id": "e328a9b7",
   "metadata": {},
   "outputs": [],
   "source": [
    "ces_gdf = ces_gdf[['Tract','geometry']]\n",
    "ces_gdf['Tract'] = ces_gdf['Tract'].astype(int)"
   ]
  },
  {
   "cell_type": "code",
   "execution_count": null,
   "id": "e9b73779",
   "metadata": {},
   "outputs": [],
   "source": [
    "gdf = ces_gdf.merge(factors, on='Tract', how='inner')"
   ]
  },
  {
   "cell_type": "code",
   "execution_count": null,
   "id": "ff5c9c08",
   "metadata": {},
   "outputs": [],
   "source": [
    "# gdf['burden_only'] = gdf['env_exp'] + gdf['env_eff'] + gdf['sens_pop']"
   ]
  },
  {
   "cell_type": "code",
   "execution_count": null,
   "id": "87b70366",
   "metadata": {},
   "outputs": [],
   "source": [
    "gdf['eq_poll_burden_ces_score_pctl'] = gdf['eq_poll_burden_ces_score'].rank(pct=True) * 100\n",
    "gdf['eq_poll_burden_ces_score_rank'] = gdf['eq_poll_burden_ces_score'].rank(method='first')\n",
    "gdf['eq_pctl_diff'] = gdf['ces_pctl'] - gdf['eq_poll_burden_ces_score_pctl']\n",
    "\n",
    "gdf['all_ces_score_pctl'] = gdf['all_ces_score'].rank(pct=True) * 100\n",
    "gdf['all_ces_score_rank'] = gdf['all_ces_score'].rank(method='first')\n",
    "gdf['all_pctl_diff'] = gdf['ces_pctl'] - gdf['all_ces_score_pctl']\n",
    "\n",
    "gdf['ces_score_rank'] = gdf['ces_score'].rank(method='first')"
   ]
  },
  {
   "cell_type": "code",
   "execution_count": null,
   "id": "3e9deae3",
   "metadata": {},
   "outputs": [],
   "source": [
    "gdf['all_ces_score_rank_change'] = (gdf['ces_score_rank'] - gdf['all_ces_score_rank']).abs()\n",
    "gdf['eq_poll_burden_ces_score_rank_change'] = (gdf['ces_score_rank'] - gdf['eq_poll_burden_ces_score_rank']).abs()"
   ]
  },
  {
   "cell_type": "code",
   "execution_count": null,
   "id": "e33ed41c",
   "metadata": {},
   "outputs": [],
   "source": [
    "bins_unit = 50"
   ]
  },
  {
   "cell_type": "code",
   "execution_count": null,
   "id": "bb66f51d",
   "metadata": {},
   "outputs": [],
   "source": [
    "bins = []\n",
    "\n",
    "for i in range(0,41):\n",
    "    bins.append(bins_unit*i)"
   ]
  },
  {
   "cell_type": "code",
   "execution_count": null,
   "id": "86b27270",
   "metadata": {},
   "outputs": [],
   "source": [
    "fig, ax = plt.subplots(figsize=(8, 4))\n",
    "N, bins, patches = ax.hist(gdf['eq_poll_burden_ces_score_rank_change'], bins=bins,\n",
    "                           edgecolor='white', linewidth=3)\n",
    "\n",
    "ax.set_ylabel('Frequency', fontsize=16)\n",
    "ax.set_xlabel('Absolute Change in Rank', fontsize=16)\n",
    "ax.set_title('CES4 vs. Equal Pollution Burden', fontsize=20)\n",
    "\n",
    "ax.set_ylim(0,1400)\n",
    "\n",
    "ax.annotate('No significant change in rank',\n",
    "            xy=(55, 1200), xycoords='data',\n",
    "            xytext=(0.6, 0.6), textcoords='axes fraction',\n",
    "            arrowprops=dict(facecolor='black', shrink=0.05, width=1, headwidth=6),\n",
    "            horizontalalignment='right', verticalalignment='top')\n",
    "\n",
    "patches[0].set_facecolor('#bdcded')\n",
    "plt.show()"
   ]
  },
  {
   "cell_type": "code",
   "execution_count": null,
   "id": "f04713e6",
   "metadata": {},
   "outputs": [],
   "source": [
    "fig, ax = plt.subplots(figsize=(8, 4))\n",
    "# gdf['all_ces_score_rank_change'].hist(ax=ax, bins=200, grid=False)\n",
    "N, bins, patches = ax.hist(gdf['all_ces_score_rank_change'], bins=bins,\n",
    "                           edgecolor='white', linewidth=3)\n",
    "\n",
    "ax.set_ylabel('Frequency', fontsize=16)\n",
    "ax.set_xlabel('Absolute Change in Rank', fontsize=16)\n",
    "ax.set_title('CES4 vs. Weighting Factors Equally', fontsize=20)\n",
    "\n",
    "ax.set_ylim(0,1400)\n",
    "\n",
    "ax.annotate('No significant change in rank',\n",
    "            xy=(25, 200), xycoords='data',\n",
    "            xytext=(0.4, 0.4), textcoords='axes fraction',\n",
    "            arrowprops=dict(facecolor='black', shrink=0.05, width=1, headwidth=6),\n",
    "            horizontalalignment='right', verticalalignment='top')\n",
    "\n",
    "patches[0].set_facecolor('#bdcded')\n",
    "plt.show()"
   ]
  },
  {
   "cell_type": "code",
   "execution_count": null,
   "id": "d10f7df5",
   "metadata": {},
   "outputs": [],
   "source": [
    "ces_worst_tracts = set(gdf[gdf['ces_pctl'] >= 80]['Tract'].tolist())\n",
    "eq_poll_burden_worst_tracts = set(gdf[gdf['eq_poll_burden_ces_score_pctl'] >= 80]['Tract'].tolist())\n",
    "all_ces_worst_tracts = set(gdf[gdf['all_ces_score_pctl'] >= 80]['Tract'].tolist())"
   ]
  },
  {
   "cell_type": "markdown",
   "id": "1b1bf16d",
   "metadata": {},
   "source": [
    "Let's see how the worst scoring tracts compare with the different methods of calculating the scores.\n",
    "\n",
    "I calculated:\n",
    "- the number of tracts that were not in the top 20% after recalcuating scores\n",
    "- the percentage of the worst tracts that changed with the different score calcuation\n",
    "- the number of tracts with a significant shift in their rank (a shift greater than 50)"
   ]
  },
  {
   "cell_type": "code",
   "execution_count": null,
   "id": "0fd8e69f",
   "metadata": {},
   "outputs": [],
   "source": [
    "worst_tracts_df = gdf[gdf['Tract'].isin(ces_worst_tracts)]"
   ]
  },
  {
   "cell_type": "code",
   "execution_count": null,
   "id": "2719622e",
   "metadata": {},
   "outputs": [],
   "source": [
    "len(ces_worst_tracts - eq_poll_burden_worst_tracts)"
   ]
  },
  {
   "cell_type": "code",
   "execution_count": null,
   "id": "801740dd",
   "metadata": {},
   "outputs": [],
   "source": [
    "len(ces_worst_tracts - eq_poll_burden_worst_tracts)/len(ces_worst_tracts)"
   ]
  },
  {
   "cell_type": "code",
   "execution_count": null,
   "id": "b52a8a54",
   "metadata": {},
   "outputs": [],
   "source": [
    "len(worst_tracts_df[(worst_tracts_df['ces_score_rank'] - worst_tracts_df['eq_poll_burden_ces_score_rank']).abs()>50])"
   ]
  },
  {
   "cell_type": "code",
   "execution_count": null,
   "id": "52bfad5d",
   "metadata": {},
   "outputs": [],
   "source": [
    "len(ces_worst_tracts - all_ces_worst_tracts)"
   ]
  },
  {
   "cell_type": "code",
   "execution_count": null,
   "id": "3ac8f623",
   "metadata": {},
   "outputs": [],
   "source": [
    "len(ces_worst_tracts - all_ces_worst_tracts)/len(ces_worst_tracts)"
   ]
  },
  {
   "cell_type": "code",
   "execution_count": null,
   "id": "cfed0a3f",
   "metadata": {},
   "outputs": [],
   "source": [
    "len(worst_tracts_df[(worst_tracts_df['ces_score_rank'] - worst_tracts_df['all_ces_score_rank']).abs()>50])"
   ]
  },
  {
   "cell_type": "markdown",
   "id": "9a1290b5",
   "metadata": {},
   "source": [
    "## Mapping\n",
    "\n",
    "I chose the same color scale as used in some of the maps in the CalEnviroScreen report. I defined a function that would map all the scores the same way, with the same scale."
   ]
  },
  {
   "cell_type": "code",
   "execution_count": null,
   "id": "6b3aded8",
   "metadata": {},
   "outputs": [],
   "source": [
    "cmap = LinearSegmentedColormap.from_list(\n",
    "    'mycmap', \n",
    "    [\n",
    "        (0, '#d3d3d3'),\n",
    "        (0.1, '#bbbbbb'), \n",
    "        (0.2, '#a6a6a6'),\n",
    "        (0.3, '#909090'),\n",
    "        (0.4, '#7F7F7F'),\n",
    "        (0.5, '#6d6d6d'),\n",
    "        (0.6, '#5d5d5d'),\n",
    "        (0.7, '#87cfab'),\n",
    "        (0.8, '#3ea3b3'),\n",
    "        (0.9, '#152a70'),\n",
    "        (1, '#152a70')\n",
    "    ])"
   ]
  },
  {
   "cell_type": "code",
   "execution_count": null,
   "id": "1ac6786d",
   "metadata": {},
   "outputs": [],
   "source": [
    "def color_code(p):\n",
    "    if p < 11:\n",
    "        return '#d3d3d3'\n",
    "    elif p < 21:\n",
    "        return '#bbbbbb'\n",
    "    elif p < 31:\n",
    "        return '#a6a6a6'\n",
    "    elif p < 41:\n",
    "        return '#909090'\n",
    "    elif p < 51:\n",
    "        return '#7F7F7F'\n",
    "    elif p < 61:\n",
    "        return '#6d6d6d'\n",
    "    elif p < 71:\n",
    "        return '#5d5d5d'\n",
    "    elif p < 81:\n",
    "        return '#87cfab'\n",
    "    elif p < 91:\n",
    "        return '#3ea3b3'\n",
    "    else:\n",
    "        return '#152a70'"
   ]
  },
  {
   "cell_type": "code",
   "execution_count": null,
   "id": "314d2848",
   "metadata": {},
   "outputs": [],
   "source": [
    "legend_elements = [\n",
    "    Patch(facecolor='#d3d3d3', edgecolor='#6d6d6d', label='0-10'),\n",
    "    Patch(facecolor='#bbbbbb', edgecolor='#6d6d6d', label='11-20'),\n",
    "    Patch(facecolor='#a6a6a6', edgecolor='#6d6d6d', label='21-30'),\n",
    "    Patch(facecolor='#909090', edgecolor='#6d6d6d', label='31-40'),\n",
    "    Patch(facecolor='#7F7F7F', edgecolor='#6d6d6d', label='41-50'),\n",
    "    Patch(facecolor='#6d6d6d', edgecolor='#6d6d6d', label='51-60'),\n",
    "    Patch(facecolor='#5d5d5d', edgecolor='#6d6d6d', label='61-70'),\n",
    "    Patch(facecolor='#87cfab', edgecolor='#6d6d6d', label='71-80 (Top 30%)'),\n",
    "    Patch(facecolor='#3ea3b3', edgecolor='#6d6d6d', label='81-90 (Top 20%)'),\n",
    "    Patch(facecolor='#152a70', edgecolor='#6d6d6d', label='91-100 (Top 10%)'),\n",
    "]\n",
    "\n",
    "def make_map(gdf, col, path='', title=''):\n",
    "    fig, ax = plt.subplots(figsize=(10, 10))\n",
    "    ax = gdf.to_crs(epsg=WEBMERC).plot(ax=ax, \n",
    "                                       color=[color_code(v) for v in gdf[col]], \n",
    "                                       legend=True)\n",
    "\n",
    "    ax.text(x=-13800000-28000, y=4050000, s='N', fontsize=30)\n",
    "    ax.arrow(-13800000, 3900000, 0, 200, length_includes_head=True,\n",
    "              head_width=40000, head_length=500, overhang=250, facecolor='k')\n",
    "    ax.add_artist(ScaleBar(location='lower left', box_alpha=0, dx=1, pad=1.1))\n",
    "    ax.legend(handles=legend_elements,\n",
    "              title='Score Percentile',\n",
    "              loc='upper right',\n",
    "              fancybox=True, \n",
    "              prop={'size': 14})\n",
    "    ax.set_title(title, fontsize=20)\n",
    "    ctx.add_basemap(ax, source=ctx.providers.Stamen.TonerLite)\n",
    "    ax.axis('off')\n",
    "    \n",
    "    if (len(path) > 0):\n",
    "        plt.savefig(path)\n",
    "        \n",
    "    plt.show()"
   ]
  },
  {
   "cell_type": "code",
   "execution_count": null,
   "id": "6080b848",
   "metadata": {},
   "outputs": [],
   "source": [
    "make_map(gdf, 'eq_poll_burden_ces_score_pctl', title='Equally weighted pollution burden')"
   ]
  },
  {
   "cell_type": "code",
   "execution_count": null,
   "id": "c3341ec6",
   "metadata": {},
   "outputs": [],
   "source": [
    "make_map(gdf, 'ces_pctl', title='CalEnviroScreen 4.0')"
   ]
  },
  {
   "cell_type": "code",
   "execution_count": null,
   "id": "af9d060b",
   "metadata": {},
   "outputs": [],
   "source": [
    "make_map(gdf, 'all_ces_score_pctl', title='Weighting all factors equally')"
   ]
  },
  {
   "cell_type": "markdown",
   "id": "739ae1e7",
   "metadata": {},
   "source": [
    "#### Mapping the differences in the top scoring tracts"
   ]
  },
  {
   "cell_type": "code",
   "execution_count": null,
   "id": "c808068d",
   "metadata": {},
   "outputs": [],
   "source": [
    "def map_diff_tracts(gdf, ces_set, new_set, title=\"\", path=\"\", model=\"new model\"):\n",
    "    diff_new = list(new_set - ces_set)\n",
    "    diff_ces = list(ces_set - new_set)\n",
    "    in_both = list(ces_set.intersection(new_set))\n",
    "\n",
    "    legend_elements = [\n",
    "        Patch(facecolor='#acacac', edgecolor='#6d6d6d', label='Not in top 20%'),\n",
    "        Patch(facecolor='#388186', edgecolor='#6d6d6d', label='In top 20% for both'),\n",
    "        Patch(facecolor='#a5e9e1', edgecolor='#6d6d6d', label='In top 20% for CES4'),\n",
    "        Patch(facecolor='#2e2b2b', edgecolor='#6d6d6d', label=f'In top 20% for {model}')\n",
    "    ]\n",
    "\n",
    "    fig, ax = plt.subplots(figsize=(10, 10))\n",
    "    ax = gdf.to_crs(epsg=WEBMERC).plot(ax=ax, color=\"#acacac\")\n",
    "    ax = gdf[gdf['Tract'].isin(in_both)].to_crs(epsg=WEBMERC).plot(ax=ax, \n",
    "                                           color=\"#388186\")\n",
    "    ax = gdf[gdf['Tract'].isin(diff_ces)].to_crs(epsg=WEBMERC).plot(ax=ax, color=\"#a5e9e1\") \n",
    "    ax = gdf[gdf['Tract'].isin(diff_new)].to_crs(epsg=WEBMERC).plot(ax=ax, \n",
    "                                           color=\"#2e2b2b\")\n",
    "    ax.text(x=-13800000-28000, y=4050000, s='N', fontsize=30)\n",
    "    ax.arrow(-13800000, 3900000, 0, 200, length_includes_head=True,\n",
    "             head_width=40000, head_length=500, overhang=250, facecolor='k')\n",
    "    ax.add_artist(ScaleBar(location='lower left', box_alpha=0, dx=1, pad=1.1))\n",
    "    ax.legend(handles=legend_elements,\n",
    "                  loc='upper right',\n",
    "                  fancybox=True, \n",
    "                  prop={'size': 14})\n",
    "    ax.set_title(title, fontsize=20)\n",
    "    ctx.add_basemap(ax, source=ctx.providers.Stamen.TonerLite)\n",
    "    ax.axis('off')\n",
    "    \n",
    "    if (len(path) > 0):\n",
    "        plt.savefig(path)\n",
    "        \n",
    "    plt.show()\n",
    "    "
   ]
  },
  {
   "cell_type": "code",
   "execution_count": null,
   "id": "aa3d7d9d",
   "metadata": {},
   "outputs": [],
   "source": [
    "map_diff_tracts(gdf, ces_worst_tracts, eq_poll_burden_worst_tracts, \n",
    "                title = \"CES4 vs Equal Pollution Burden\")"
   ]
  },
  {
   "cell_type": "code",
   "execution_count": null,
   "id": "ee2d9100",
   "metadata": {},
   "outputs": [],
   "source": [
    "map_diff_tracts(gdf, ces_worst_tracts, all_ces_worst_tracts, \n",
    "                title = \"CES4 vs Equal Factor Weights\")"
   ]
  },
  {
   "cell_type": "code",
   "execution_count": null,
   "id": "c578e96f",
   "metadata": {},
   "outputs": [],
   "source": [
    "gdf['top_20_ces'] = np.where(gdf['ces_pctl'] > 80, 1, 0)\n",
    "gdf['top_20_eq'] = np.where(gdf['eq_poll_burden_ces_score_pctl'] > 80, 1, 0)\n",
    "gdf['top_20_all'] = np.where(gdf['all_ces_score_pctl'] > 80, 1, 0)\n",
    "\n",
    "sig_tracts_count = gdf.groupby('county').sum()[['top_20_ces', 'top_20_eq', 'top_20_all']]\n",
    "all_tracts_count = gdf.groupby('county').count()[['Tract']]\n",
    "\n",
    "sig_tracts_prop = sig_tracts_count[['top_20_ces', \n",
    "                                    'top_20_eq', \n",
    "                                    'top_20_all']].div(all_tracts_count['Tract'], \n",
    "                                                       axis=0)"
   ]
  },
  {
   "cell_type": "code",
   "execution_count": null,
   "id": "1b953e53",
   "metadata": {},
   "outputs": [],
   "source": [
    "gdf = gdf.merge(sig_tracts_prop, on='county', suffixes=[\"\", \"_prop\"])"
   ]
  },
  {
   "cell_type": "code",
   "execution_count": null,
   "id": "5ea01e53",
   "metadata": {},
   "outputs": [],
   "source": [
    "fig, ax = plt.subplots(figsize=(10, 10))\n",
    "ax = gdf.to_crs(epsg=WEBMERC).plot(column='top_20_eq_prop',\n",
    "                                   ax=ax, legend=True)\n",
    "ax.text(x=-13800000-28000, y=4050000, s='N', fontsize=30)\n",
    "ax.arrow(-13800000, 3900000, 0, 200, length_includes_head=True,\n",
    "         head_width=40000, head_length=500, overhang=250, facecolor='k')\n",
    "ax.add_artist(ScaleBar(location='lower left', box_alpha=0, dx=1, pad=1.1))\n",
    "ctx.add_basemap(ax, source=ctx.providers.Stamen.TonerLite)\n",
    "ax.axis('off')\n",
    "        \n",
    "plt.show()\n"
   ]
  },
  {
   "cell_type": "markdown",
   "id": "1388f3c2",
   "metadata": {},
   "source": [
    "## Exploratory analysis: Spatial Correlation Matrix\n",
    "\n",
    "Here I propose that you can create a matrix that looks at the spatial relationship between two variables by looking at the Moran's I value for the difference between the percentiles (in effect, rank) between each of the variables. I will map out one example of this process first:"
   ]
  },
  {
   "cell_type": "code",
   "execution_count": null,
   "id": "62dce821",
   "metadata": {},
   "outputs": [],
   "source": [
    "gdf_no_nan = gdf.dropna().copy()"
   ]
  },
  {
   "cell_type": "code",
   "execution_count": null,
   "id": "df81beac",
   "metadata": {},
   "outputs": [],
   "source": [
    "# Generate W from the GeoDataFrame\n",
    "w = weights.distance.KNN.from_dataframe(gdf_no_nan, k=8)\n",
    "# Row-standardization\n",
    "w.transform = 'R'"
   ]
  },
  {
   "cell_type": "code",
   "execution_count": null,
   "id": "e8be7492",
   "metadata": {},
   "outputs": [],
   "source": [
    "def moran_i_diff(col1, col2, w):\n",
    "    diff = (col2 - col1) * 10 \n",
    "    moran = esda.moran.Moran(diff, w)\n",
    "    return moran.I"
   ]
  },
  {
   "cell_type": "code",
   "execution_count": null,
   "id": "a4686667",
   "metadata": {},
   "outputs": [],
   "source": [
    "def moran_matrix_df(df, columns):\n",
    "    # copy the data frame but remove NAN values (to get Moran I scores)\n",
    "    df_no_nan = df.dropna().copy()\n",
    "    \n",
    "    # Generate W from the GeoDataFrame\n",
    "    w = weights.distance.KNN.from_dataframe(df_no_nan, k=8)\n",
    "    # Row-standardization\n",
    "    w.transform = 'R'\n",
    "    \n",
    "    moran_dict = {k:{k2:-3 for k2 in columns} for k in columns}\n",
    "    \n",
    "    for col1 in columns:\n",
    "        for col2 in columns:\n",
    "            if (moran_dict[col1][col2] == -3):\n",
    "                if (col1 == col2):\n",
    "                    moran_dict[col1][col2] = 1\n",
    "                    moran_dict[col2][col1] = 1\n",
    "                else:\n",
    "                    i = moran_i_diff(df_no_nan[col1+'_pctl'], df_no_nan[col2+'_pctl'], w)\n",
    "                    moran_dict[col1][col2] = i\n",
    "                    moran_dict[col2][col1] = i\n",
    "                \n",
    "    return pd.DataFrame.from_dict(moran_dict, orient='index')"
   ]
  },
  {
   "cell_type": "markdown",
   "id": "991d8775",
   "metadata": {},
   "source": [
    "This takes about 3 or so minutes to run on my computer. It's slow but I couldn't be bothered to figure out how to speed it up more than I already have."
   ]
  },
  {
   "cell_type": "code",
   "execution_count": null,
   "id": "aa4bcdfa",
   "metadata": {},
   "outputs": [],
   "source": [
    "morans = moran_matrix_df(gdf, factors_corr_matrix_columns)"
   ]
  },
  {
   "cell_type": "code",
   "execution_count": null,
   "id": "c8ff4445",
   "metadata": {},
   "outputs": [],
   "source": [
    "sig_locs = []\n",
    "for i, col in enumerate(factors_corr_matrix_columns):\n",
    "    sig_cols = morans[(morans[col] >= 0.75) & (morans[col] < 1)].index.tolist()\n",
    "    \n",
    "    if len(sig_cols)>0:\n",
    "        for sig_col in sig_cols:\n",
    "            sig_locs.append(((i+0.5), (factors_corr_matrix_columns.index(sig_col)+0.5)))"
   ]
  },
  {
   "cell_type": "code",
   "execution_count": null,
   "id": "ffd64122",
   "metadata": {},
   "outputs": [],
   "source": [
    "fig, ax = plt.subplots(figsize=(10, 8))\n",
    "\n",
    "sns.heatmap(morans, cmap='afmhot_r', \n",
    "            xticklabels=[columns_readable_map[c] for c in morans.columns],\n",
    "            yticklabels=[columns_readable_map[c] for c in morans.columns])\n",
    "\n",
    "# add boxes around all the R values that are greater than 0.6 (by abs value)\n",
    "for s in sig_locs:    \n",
    "    # ax.add_patch(Rectangle(s, 1, 1, fill=False, edgecolor='k', lw=2))\n",
    "    ax.add_patch(Circle(s, 0.2, facecolor='yellow', edgecolor='k', lw=2))\n",
    "\n",
    "# add dashed lines around the different indicator groups\n",
    "ax.add_patch(Rectangle((0,0), 8, 8, fill=False, edgecolor='k', lw=2, linestyle='dotted'))\n",
    "ax.add_patch(Rectangle((8,8), 5, 5, fill=False, edgecolor='k', lw=2, linestyle='dotted'))\n",
    "ax.add_patch(Rectangle((13,13), 3, 3, fill=False, edgecolor='k', lw=2, linestyle='dotted'))\n",
    "ax.add_patch(Rectangle((16,16), 5, 5, fill=False, edgecolor='k', lw=2, linestyle='dotted'))\n",
    "\n",
    "legend_elements = [\n",
    "    Line2D([0], [0], color='k', lw=2, linestyle='dotted', \n",
    "           label='Factors within one indicator'),\n",
    "    Line2D([0], [0], marker='o', color='yellow', label=\"Moran's I >= 0.75\",\n",
    "           markerfacecolor='yellow', markeredgecolor='k', \n",
    "           markeredgewidth=2, markersize=8),\n",
    "]\n",
    "\n",
    "ax.legend(handles=legend_elements,loc='upper right')"
   ]
  },
  {
   "cell_type": "code",
   "execution_count": null,
   "id": "1a9d5c49",
   "metadata": {},
   "outputs": [],
   "source": []
  }
 ],
 "metadata": {
  "kernelspec": {
   "display_name": "Python 3 (ipykernel)",
   "language": "python",
   "name": "python3"
  },
  "language_info": {
   "codemirror_mode": {
    "name": "ipython",
    "version": 3
   },
   "file_extension": ".py",
   "mimetype": "text/x-python",
   "name": "python",
   "nbconvert_exporter": "python",
   "pygments_lexer": "ipython3",
   "version": "3.9.7"
  }
 },
 "nbformat": 4,
 "nbformat_minor": 5
}
